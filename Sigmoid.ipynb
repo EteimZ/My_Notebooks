{
 "cells": [
  {
   "cell_type": "markdown",
   "metadata": {},
   "source": [
    "# Sigmoid Function"
   ]
  },
  {
   "cell_type": "markdown",
   "metadata": {},
   "source": [
    "The Sigmoid Function function is a popular activation function used in Machine Learning. The name Sigmoid comes from the Greek letter Sigma andthe fact that when it is Graphed it has a S shape. Basically any Graph that has an S shape is referred to as a Sigmoid Function. In this Notebook i will be focusing on two functions the Logistic functions and Hyberbolic tangents."
   ]
  },
  {
   "cell_type": "code",
   "execution_count": 1,
   "metadata": {},
   "outputs": [],
   "source": [
    "import numpy as np\n",
    "import matplotlib.pyplot as plt\n",
    "from math import exp"
   ]
  },
  {
   "cell_type": "markdown",
   "metadata": {},
   "source": [
    "\n",
    "\n",
    "\n",
    "\n",
    "# Logistic Function\n",
    "\n",
    "The Logistic Function is given as:\n",
    "\n",
    "\n",
    "$$ \\sigma_(x) = \\frac{1}{1 + e^{-x}} $$\n",
    "\n",
    "The value of the logistic function ranges from 0 to 1."
   ]
  },
  {
   "cell_type": "code",
   "execution_count": 2,
   "metadata": {},
   "outputs": [],
   "source": [
    "def sigmoid(x):\n",
    "    a = []\n",
    "    for item in x:\n",
    "        a.append(1/(1+exp(-item)))\n",
    "    return a"
   ]
  },
  {
   "cell_type": "markdown",
   "metadata": {},
   "source": [
    "# Hyperbolic Tangent\n",
    "\n",
    "$$\\tanh = \\frac{e^x - e^{-x}}{e^x + e^{-x}}$$\n",
    "\n",
    "The value of hyperbolic tangent ranges from -1 to 1"
   ]
  },
  {
   "cell_type": "code",
   "execution_count": 7,
   "metadata": {},
   "outputs": [],
   "source": [
    "def hyper(x):\n",
    "    a = []\n",
    "    for item in x:\n",
    "        a.append((exp(item) - exp(-item))/(exp(item) + exp(-item)))\n",
    "    return a"
   ]
  },
  {
   "cell_type": "code",
   "execution_count": 8,
   "metadata": {},
   "outputs": [],
   "source": [
    "x = np.arange(-10, 10., 0.2)\n"
   ]
  },
  {
   "cell_type": "code",
   "execution_count": 9,
   "metadata": {},
   "outputs": [
    {
     "data": {
      "image/png": "[encoded data removed]",
      "text/plain": [
       "<Figure size 432x288 with 1 Axes>"
      ]
     },
     "metadata": {
      "needs_background": "light"
     },
     "output_type": "display_data"
    }
   ],
   "source": [
    "plt.plot(x,hyper(x), label = 'tanh')\n",
    "plt.plot(x,sigmoid(x),label = 'logistic')\n",
    "plt.legend()\n",
    "plt.grid(color='g',linewidth=0.5)"
   ]
  },
  {
   "cell_type": "markdown",
   "metadata": {},
   "source": [
    "### References\n",
    "\n",
    "[Wikipedia](https://en.wikipedia.org/wiki/Sigmoid_function)\n",
    "\n",
    "[ Ping-Wen Hsu's blog](https://squall0032.tumblr.com/post/77300791096/plotting-a-sigmoid-function-using)"
   ]
  },
  {
   "cell_type": "code",
   "execution_count": 1,
   "metadata": {},
   "outputs": [
    {
     "name": "stdout",
     "output_type": "stream",
     "text": [
      "hello world\n"
     ]
    }
   ],
   "source": [
    "print(\"hello world\")"
   ]
  }
 ],
 "metadata": {
  "kernelspec": {
   "display_name": "Python 3",
   "language": "python",
   "name": "python3"
  },
  "language_info": {
   "codemirror_mode": {
    "name": "ipython",
    "version": 3
   },
   "file_extension": ".py",
   "mimetype": "text/x-python",
   "name": "python",
   "nbconvert_exporter": "python",
   "pygments_lexer": "ipython3",
   "version": "3.7.4"
  }
 },
 "nbformat": 4,
 "nbformat_minor": 2
}
