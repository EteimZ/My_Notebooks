{
 "cells": [
  {
   "cell_type": "markdown",
   "metadata": {},
   "source": [
    "# Vectors\n",
    "\n",
    "**Vectors** are usually defined as quantities that have magnitude and direction but in the context of machine learning, they are an array of numbers called **scalars**.\n",
    "\n",
    "Given two vectors:\n",
    "\n",
    "$\\hat{u}$ $= \\begin{bmatrix}\n",
    "1 \\\\\n",
    "2 \\\\\n",
    "\\end{bmatrix}$\n",
    "\n",
    "\n",
    "\n",
    "$\\hat{v}$ $= \\begin{bmatrix}\n",
    "3 \\\\\n",
    "-1 \\\\\n",
    "\\end{bmatrix}$"
   ]
  },
  {
   "cell_type": "code",
   "execution_count": 1,
   "metadata": {},
   "outputs": [],
   "source": [
    "%matplotlib inline\n",
    "import numpy as np\n",
    "import matplotlib.pyplot as plt"
   ]
  },
  {
   "cell_type": "code",
   "execution_count": 2,
   "metadata": {},
   "outputs": [],
   "source": [
    "#The folloing vectors are two dimensional\n",
    "u = np.array([1, 2])\n",
    "v = np.array([3, -1])"
   ]
  },
  {
   "cell_type": "markdown",
   "metadata": {},
   "source": [
    "Plotting their coordinates:"
   ]
  },
  {
   "cell_type": "code",
   "execution_count": 3,
   "metadata": {},
   "outputs": [
    {
     "data": {
      "image/png": "[encoded data removed]",
      "text/plain": [
       "<Figure size 432x288 with 1 Axes>"
      ]
     },
     "metadata": {
      "needs_background": "light"
     },
     "output_type": "display_data"
    }
   ],
   "source": [
    "x_coords, y_coords = zip(u, v)\n",
    "plt.scatter(x_coords, y_coords, color=[\"r\",\"b\"])\n",
    "plt.axis([0, 9, -3, 6])\n",
    "plt.grid()"
   ]
  },
  {
   "cell_type": "code",
   "execution_count": 4,
   "metadata": {},
   "outputs": [],
   "source": [
    "def plot_vector2d(vector2d, origin, **options):\n",
    "    return plt.arrow(origin[0], origin[1], vector2d[0], vector2d[1],\n",
    "              head_width=0.2, head_length=0.3, length_includes_head=True,\n",
    "              **options)"
   ]
  },
  {
   "cell_type": "markdown",
   "metadata": {},
   "source": [
    "It's much more better to represent vectors with arrows rather than dots"
   ]
  },
  {
   "cell_type": "code",
   "execution_count": 5,
   "metadata": {},
   "outputs": [
    {
     "data": {
      "image/png": "[encoded data removed]",
      "text/plain": [
       "<Figure size 432x288 with 1 Axes>"
      ]
     },
     "metadata": {
      "needs_background": "light"
     },
     "output_type": "display_data"
    }
   ],
   "source": [
    "plot_vector2d(u, [0,0],color=\"r\")\n",
    "plot_vector2d(v, [0,0],color=\"b\")\n",
    "#plot_add2d()\n",
    "plt.axis([0, 6, -3, 3])\n",
    "plt.grid()\n",
    "plt.show()\n"
   ]
  },
  {
   "cell_type": "markdown",
   "metadata": {},
   "source": [
    "The length of the arrows represent the magnitude while the angle represents the direction."
   ]
  },
  {
   "cell_type": "markdown",
   "metadata": {},
   "source": [
    "# Vector Addition."
   ]
  },
  {
   "cell_type": "markdown",
   "metadata": {},
   "source": [
    "$ \\begin{bmatrix}\n",
    "x_1 \\\\\n",
    "y_1 \\\\\n",
    "\\end{bmatrix} + \\begin{bmatrix}\n",
    "x_2 \\\\\n",
    "y_2 \\\\\n",
    "\\end{bmatrix} =\\begin{bmatrix}\n",
    "x_1 + x_2 \\\\\n",
    "y_1 + y_2 \\\\\n",
    "\\end{bmatrix} \\\\ $\n",
    "\n",
    "$\\hat{u}$ + $\\hat{v}$\n",
    "$ = \\begin{bmatrix}\n",
    "1 \\\\\n",
    "2 \\\\\n",
    "\\end{bmatrix} + \\begin{bmatrix}\n",
    "3 \\\\\n",
    "-1 \\\\\n",
    "\\end{bmatrix} =\\begin{bmatrix}\n",
    "4 \\\\\n",
    "1 \\\\\n",
    "\\end{bmatrix} \\\\ $"
   ]
  },
  {
   "cell_type": "markdown",
   "metadata": {},
   "source": [
    "Vector Addition graphically:"
   ]
  },
  {
   "cell_type": "code",
   "execution_count": 6,
   "metadata": {},
   "outputs": [
    {
     "data": {
      "image/png": "[encoded data removed]",
      "text/plain": [
       "<Figure size 432x288 with 1 Axes>"
      ]
     },
     "metadata": {
      "needs_background": "light"
     },
     "output_type": "display_data"
    }
   ],
   "source": [
    "plot_vector2d(u, [0,0],color=\"r\")\n",
    "plot_vector2d(v, u,color=\"b\")\n",
    "plot_vector2d(u + v, [0,0],color=\"g\")\n",
    "plt.axis([0, 6, -3, 3])\n",
    "plt.text(0.5, 1.5, \"$\\hat{u}$\", color=\"r\", fontsize=18)\n",
    "plt.text(2.5, 1.8, \"$\\hat{v}$\", color=\"b\", fontsize=18)\n",
    "plt.text(2, 0.85, \"$\\hat{u}$ + $\\hat{v}$\", color=\"g\", fontsize=18)\n",
    "plt.grid()\n",
    "plt.show()"
   ]
  },
  {
   "cell_type": "markdown",
   "metadata": {},
   "source": [
    "# Vector Multiplication"
   ]
  },
  {
   "cell_type": "markdown",
   "metadata": {},
   "source": [
    "Vector Multiplication is also known as Scaling.\n",
    "\n",
    "$\n",
    "n \\begin{bmatrix}\n",
    "x \\\\\n",
    "y \\\\\n",
    "\\end{bmatrix} = \\begin{bmatrix}\n",
    "nx \\\\\n",
    "ny \\\\\n",
    "\\end{bmatrix}$\n",
    "\n",
    "$\n",
    "2 \\begin{bmatrix}\n",
    "1 \\\\\n",
    "2 \\\\\n",
    "\\end{bmatrix} = \\begin{bmatrix}\n",
    "2 \\\\\n",
    "4 \\\\\n",
    "\\end{bmatrix}$"
   ]
  },
  {
   "cell_type": "markdown",
   "metadata": {},
   "source": [
    "graphically:"
   ]
  },
  {
   "cell_type": "code",
   "execution_count": 7,
   "metadata": {},
   "outputs": [
    {
     "data": {
      "image/png": "[encoded data removed]",
      "text/plain": [
       "<Figure size 432x288 with 1 Axes>"
      ]
     },
     "metadata": {
      "needs_background": "light"
     },
     "output_type": "display_data"
    }
   ],
   "source": [
    "plot_vector2d(2*u, [0,0],color=\"r\")\n",
    "plt.axis([0, 6, 0, 9])\n",
    "plt.text(1, 3, \"2u\", color=\"r\", fontsize=18)\n",
    "plot_vector2d(u, [0,0],color=\"g\")\n",
    "plt.text(0.3, 1.2, \"u\", color=\"g\", fontsize=18)\n",
    "plt.grid()\n",
    "plt.show()"
   ]
  },
  {
   "cell_type": "markdown",
   "metadata": {},
   "source": [
    "# Linear Transformation."
   ]
  },
  {
   "cell_type": "markdown",
   "metadata": {},
   "source": [
    "Given a matrix:\n",
    "\n",
    "$\n",
    "\\begin{bmatrix}\n",
    "  1 & 2\\\\\n",
    "  3 & 4\n",
    "\\end{bmatrix}\n",
    "$\n",
    "\n",
    "and given a vector:\n",
    "\n",
    "$\n",
    "\\begin{bmatrix}\n",
    "  4\\\\\n",
    "  1 \n",
    "\\end{bmatrix}\n",
    "$\n",
    "\n",
    "4$\\hat{i}$ + $\\hat{i}$\n",
    "\n",
    "$\n",
    "\\begin{bmatrix}\n",
    "  1 & 2\\\\\n",
    "  3 & 4\n",
    "\\end{bmatrix}\n",
    "\\begin{bmatrix}\n",
    "  4\\\\\n",
    "  1 \n",
    "\\end{bmatrix}\n",
    "$\n",
    "\n",
    "we need to perform a linear transformation:"
   ]
  },
  {
   "cell_type": "code",
   "execution_count": 45,
   "metadata": {},
   "outputs": [],
   "source": [
    "def conv(vector):\n",
    "    return vector.reshape(2)"
   ]
  },
  {
   "cell_type": "code",
   "execution_count": 38,
   "metadata": {},
   "outputs": [],
   "source": [
    "m = np.array([[1,2],[3,4]])"
   ]
  },
  {
   "cell_type": "code",
   "execution_count": 39,
   "metadata": {},
   "outputs": [],
   "source": [
    "v = np.array([[4],[1]])"
   ]
  },
  {
   "cell_type": "code",
   "execution_count": 41,
   "metadata": {},
   "outputs": [],
   "source": [
    "d = m.dot(v)"
   ]
  },
  {
   "cell_type": "code",
   "execution_count": 46,
   "metadata": {},
   "outputs": [
    {
     "data": {
      "text/plain": [
       "array([4, 1])"
      ]
     },
     "execution_count": 46,
     "metadata": {},
     "output_type": "execute_result"
    }
   ],
   "source": [
    "conv(v)"
   ]
  },
  {
   "cell_type": "code",
   "execution_count": 51,
   "metadata": {},
   "outputs": [
    {
     "data": {
      "image/png": "[encoded data removed]",
      "text/plain": [
       "<Figure size 432x288 with 1 Axes>"
      ]
     },
     "metadata": {
      "needs_background": "light"
     },
     "output_type": "display_data"
    }
   ],
   "source": [
    "plot_vector2d(m[:,0], [0,0],color=\"r\")\n",
    "plot_vector2d(m[:,1], [0,0],color=\"b\")\n",
    "plot_vector2d(conv(v), [0,0],color=\"y\")\n",
    "plot_vector2d(conv(d), [0,0],color=\"y\")\n",
    "\n",
    "#plot_vector2d(u + v, [0,0],color=\"g\")\n",
    "plt.axis([0, 6, 0, 16])\n",
    "'''\n",
    "plt.text(0.5, 1.5, \"$\\hat{u}$\", color=\"r\", fontsize=18)\n",
    "plt.text(2.5, 1.8, \"$\\hat{v}$\", color=\"b\", fontsize=18)\n",
    "plt.text(2, 0.85, \"$\\hat{u}$ + $\\hat{v}$\", color=\"g\", fontsize=18)\n",
    "'''\n",
    "plt.grid()\n",
    "plt.show()"
   ]
  }
 ],
 "metadata": {
  "kernelspec": {
   "display_name": "Python 3",
   "language": "python",
   "name": "python3"
  },
  "language_info": {
   "codemirror_mode": {
    "name": "ipython",
    "version": 3
   },
   "file_extension": ".py",
   "mimetype": "text/x-python",
   "name": "python",
   "nbconvert_exporter": "python",
   "pygments_lexer": "ipython3",
   "version": "3.7.6"
  }
 },
 "nbformat": 4,
 "nbformat_minor": 2
}
